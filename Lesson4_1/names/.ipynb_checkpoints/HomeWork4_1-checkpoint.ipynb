{
 "cells": [
  {
   "cell_type": "code",
   "execution_count": 82,
   "metadata": {
    "collapsed": true
   },
   "outputs": [],
   "source": [
    "import pandas as pd\n",
    "import numpy as np"
   ]
  },
  {
   "cell_type": "code",
   "execution_count": 83,
   "metadata": {
    "collapsed": true
   },
   "outputs": [],
   "source": [
    "FILE_PATH = '/Users/nicolas13/Lessons_Netology/Lesson4_1/names/'"
   ]
  },
  {
   "cell_type": "code",
   "execution_count": 179,
   "metadata": {
    "scrolled": true
   },
   "outputs": [
    {
     "ename": "TypeError",
     "evalue": "'numpy.int64' object is not iterable",
     "output_type": "error",
     "traceback": [
      "\u001b[0;31m---------------------------------------------------------------------------\u001b[0m",
      "\u001b[0;31mTypeError\u001b[0m                                 Traceback (most recent call last)",
      "\u001b[0;32m<ipython-input-179-357eca2c4a6e>\u001b[0m in \u001b[0;36m<module>\u001b[0;34m()\u001b[0m\n\u001b[1;32m     41\u001b[0m \u001b[0;32mfor\u001b[0m \u001b[0mindex\u001b[0m\u001b[0;34m,\u001b[0m \u001b[0mvalue\u001b[0m \u001b[0;32min\u001b[0m \u001b[0menumerate\u001b[0m\u001b[0;34m(\u001b[0m\u001b[0mlist_et\u001b[0m\u001b[0;34m)\u001b[0m\u001b[0;34m:\u001b[0m\u001b[0;34m\u001b[0m\u001b[0m\n\u001b[1;32m     42\u001b[0m     \u001b[0mdate_v\u001b[0m \u001b[0;34m=\u001b[0m \u001b[0mlist\u001b[0m\u001b[0;34m(\u001b[0m\u001b[0mcount_dynamics\u001b[0m\u001b[0;34m(\u001b[0m\u001b[0;34m[\u001b[0m\u001b[0;36m1900\u001b[0m\u001b[0;34m,\u001b[0m \u001b[0;36m1950\u001b[0m\u001b[0;34m,\u001b[0m \u001b[0;36m2000\u001b[0m\u001b[0;34m]\u001b[0m\u001b[0;34m)\u001b[0m\u001b[0;34m[\u001b[0m\u001b[0mvalue\u001b[0m\u001b[0;34m]\u001b[0m\u001b[0;34m)\u001b[0m\u001b[0;34m\u001b[0m\u001b[0m\n\u001b[0;32m---> 43\u001b[0;31m     \u001b[0mf_list\u001b[0m \u001b[0;34m=\u001b[0m \u001b[0;34m[\u001b[0m\u001b[0mcount_f\u001b[0m \u001b[0;32mfor\u001b[0m \u001b[0mcount_f\u001b[0m \u001b[0;32min\u001b[0m \u001b[0mdate_v\u001b[0m\u001b[0;34m[\u001b[0m\u001b[0;36m0\u001b[0m\u001b[0;34m]\u001b[0m\u001b[0;34m]\u001b[0m\u001b[0;34m\u001b[0m\u001b[0m\n\u001b[0m\u001b[1;32m     44\u001b[0m     \u001b[0mm_list\u001b[0m \u001b[0;34m=\u001b[0m \u001b[0;34m[\u001b[0m\u001b[0mcount_f\u001b[0m \u001b[0;32mfor\u001b[0m \u001b[0mcount_f\u001b[0m \u001b[0;32min\u001b[0m \u001b[0mdate_v\u001b[0m\u001b[0;34m[\u001b[0m\u001b[0;36m1\u001b[0m\u001b[0;34m]\u001b[0m\u001b[0;34m]\u001b[0m\u001b[0;34m\u001b[0m\u001b[0m\n\u001b[1;32m     45\u001b[0m \u001b[0mprint\u001b[0m\u001b[0;34m(\u001b[0m\u001b[0mf_list\u001b[0m\u001b[0;34m,\u001b[0m \u001b[0mm_list\u001b[0m\u001b[0;34m)\u001b[0m\u001b[0;34m\u001b[0m\u001b[0m\n",
      "\u001b[0;31mTypeError\u001b[0m: 'numpy.int64' object is not iterable"
     ]
    }
   ],
   "source": [
    "def create_names(year, FILE_PATH):\n",
    "    path = FILE_PATH + 'yob' + str(year) +'.txt'\n",
    "    names = pd.read_csv(\n",
    "    path,\n",
    "    names = ['Name', 'Gender', 'Count']\n",
    ")\n",
    "    return names\n",
    "\n",
    "def agg_count(row):\n",
    "    row.Count = row.Count_x + row.Count_y + row.Count\n",
    "    return row\n",
    "\n",
    "def count_top3(years):\n",
    "    for index, year in enumerate(years):\n",
    "        if index == 0:\n",
    "            names_all = create_names(year, FILE_PATH)\n",
    "        else:\n",
    "            names_all = pd.concat([names_all, create_names(year, FILE_PATH)])\n",
    "#             names_all = pd.merge(names_all, create_names(year, FILE_PATH), on=['Name', 'Gender'])\n",
    "    return list(names_all.groupby('Name', as_index=False).agg({\"Count\": \"sum\"}).sort_values(by='Count', ascending=False).head(10).Name.values)[:3]\n",
    "#     return list(\n",
    "#         names_all.apply(agg_count, axis=1).sort_values(by='Count', ascending=False).head(10).Name.values)[:len(years)]\n",
    "\n",
    "def count_dynamics(years):\n",
    "    for index, year in enumerate(years):\n",
    "        if index == 0:\n",
    "            names_all = create_names(year, FILE_PATH)\n",
    "        else:\n",
    "#             names_all = pd.concat([names_all, create_names(year, FILE_PATH)])\n",
    "            names_all = pd.merge(names_all, create_names(year, FILE_PATH), on=['Name','Gender'])\n",
    "    return names_all.groupby(['Gender']).sum()\n",
    "#     return names_all.groupby(['Gender']).sum().reset_index()\n",
    "#     return list(names_all.groupby('Name', as_index=False).agg({\"Count\": \"sum\"}).sort_values(by='Count', ascending=False).head(10).Name.values)[:len(years)]\n",
    "#     return list(\n",
    "#         names_all.apply(agg_count, axis=1).sort_values(by='Count', ascending=False).head(10).Name.values)[:len(years)]\n",
    "\n",
    "\n",
    "\n",
    "keys_s = list(count_dynamics([1900, 1950, 2000]).reset_index()['Gender'].values) #.sort_values(by='Count', ascending=False) #.groupby('Name', as_index=False).agg({\"Count\": \"sum\"}).sort_values(by='Count', ascending=False) #.groupby(['Name', 'Gender']).sum().reset_index()\n",
    "list_et = list(count_dynamics([1900, 1950, 2000]))\n",
    "for index, value in enumerate(list_et):\n",
    "    date_v = list(count_dynamics([1900, 1950, 2000])[value])\n",
    "    f_list = [count_f for count_f in date_v[0]]\n",
    "    m_list = [count_f for count_f in date_v[1]]\n",
    "print(f_list, m_list)\n",
    "    "
   ]
  },
  {
   "cell_type": "code",
   "execution_count": 148,
   "metadata": {},
   "outputs": [
    {
     "name": "stdout",
     "output_type": "stream",
     "text": [
      "{'F': [1111, 2222, 3333], 'M': [4444, 5555, 6666]}\n"
     ]
    }
   ],
   "source": [
    "keys_s = ['F', 'M']\n",
    "values_s = [[1111, 2222, 3333],[4444,5555,6666]]\n",
    "dict_s = {keys_s[0]: values_s[0], keys_s[1]: values_s[1]}\n",
    "print(dict_s)"
   ]
  },
  {
   "cell_type": "code",
   "execution_count": null,
   "metadata": {
    "collapsed": true
   },
   "outputs": [],
   "source": []
  },
  {
   "cell_type": "code",
   "execution_count": null,
   "metadata": {
    "collapsed": true
   },
   "outputs": [],
   "source": []
  }
 ],
 "metadata": {
  "kernelspec": {
   "display_name": "Python 3",
   "language": "python",
   "name": "python3"
  },
  "language_info": {
   "codemirror_mode": {
    "name": "ipython",
    "version": 3
   },
   "file_extension": ".py",
   "mimetype": "text/x-python",
   "name": "python",
   "nbconvert_exporter": "python",
   "pygments_lexer": "ipython3",
   "version": "3.6.1"
  }
 },
 "nbformat": 4,
 "nbformat_minor": 2
}
