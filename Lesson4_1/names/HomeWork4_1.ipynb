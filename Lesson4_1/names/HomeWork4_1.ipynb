{
 "cells": [
  {
   "cell_type": "code",
   "execution_count": 2,
   "metadata": {
    "collapsed": true
   },
   "outputs": [],
   "source": [
    "import pandas as pd\n",
    "import numpy as np"
   ]
  },
  {
   "cell_type": "code",
   "execution_count": 3,
   "metadata": {
    "collapsed": true
   },
   "outputs": [],
   "source": [
    "FILE_PATH = '/Users/nicolas13/Lessons_Netology/Lesson4_1/names/'"
   ]
  },
  {
   "cell_type": "code",
   "execution_count": 4,
   "metadata": {
    "scrolled": true
   },
   "outputs": [
    {
     "data": {
      "text/html": [
       "<div>\n",
       "<style>\n",
       "    .dataframe thead tr:only-child th {\n",
       "        text-align: right;\n",
       "    }\n",
       "\n",
       "    .dataframe thead th {\n",
       "        text-align: left;\n",
       "    }\n",
       "\n",
       "    .dataframe tbody tr th {\n",
       "        vertical-align: top;\n",
       "    }\n",
       "</style>\n",
       "<table border=\"1\" class=\"dataframe\">\n",
       "  <thead>\n",
       "    <tr style=\"text-align: right;\">\n",
       "      <th></th>\n",
       "      <th>Count_x</th>\n",
       "      <th>Count_y</th>\n",
       "      <th>Count</th>\n",
       "    </tr>\n",
       "    <tr>\n",
       "      <th>Gender</th>\n",
       "      <th></th>\n",
       "      <th></th>\n",
       "      <th></th>\n",
       "    </tr>\n",
       "  </thead>\n",
       "  <tbody>\n",
       "    <tr>\n",
       "      <th>F</th>\n",
       "      <td>279397</td>\n",
       "      <td>1389147</td>\n",
       "      <td>670233</td>\n",
       "    </tr>\n",
       "    <tr>\n",
       "      <th>M</th>\n",
       "      <td>146387</td>\n",
       "      <td>1674575</td>\n",
       "      <td>1262400</td>\n",
       "    </tr>\n",
       "  </tbody>\n",
       "</table>\n",
       "</div>"
      ],
      "text/plain": [
       "        Count_x  Count_y    Count\n",
       "Gender                           \n",
       "F        279397  1389147   670233\n",
       "M        146387  1674575  1262400"
      ]
     },
     "execution_count": 4,
     "metadata": {},
     "output_type": "execute_result"
    }
   ],
   "source": [
    "def create_names(year, FILE_PATH):\n",
    "    path = FILE_PATH + 'yob' + str(year) +'.txt'\n",
    "    names = pd.read_csv(\n",
    "    path,\n",
    "    names = ['Name', 'Gender', 'Count']\n",
    ")\n",
    "    return names\n",
    "\n",
    "def agg_count(row):\n",
    "    row.Count = row.Count_x + row.Count_y + row.Count\n",
    "    return row\n",
    "\n",
    "def count_top3(years):\n",
    "    for index, year in enumerate(years):\n",
    "        if index == 0:\n",
    "            names_all = create_names(year, FILE_PATH)\n",
    "        else:\n",
    "            names_all = pd.concat([names_all, create_names(year, FILE_PATH)])\n",
    "#             names_all = pd.merge(names_all, create_names(year, FILE_PATH), on=['Name', 'Gender'])\n",
    "    return list(names_all.groupby('Name', as_index=False).agg({\"Count\": \"sum\"}).sort_values(by='Count', ascending=False).head(10).Name.values)[:3]\n",
    "#     return list(\n",
    "#         names_all.apply(agg_count, axis=1).sort_values(by='Count', ascending=False).head(10).Name.values)[:len(years)]\n",
    "\n",
    "def count_dynamics(years):\n",
    "    for index, year in enumerate(years):\n",
    "        if index == 0:\n",
    "            names_all = create_names(year, FILE_PATH)\n",
    "        else:\n",
    "            names_all = pd.merge(names_all, create_names(year, FILE_PATH), on=['Name','Gender'])\n",
    "    return names_all.groupby(['Gender']).sum()\n",
    "\n",
    "count_dynamics([1900, 1950, 2000])    "
   ]
  },
  {
   "cell_type": "code",
   "execution_count": 148,
   "metadata": {},
   "outputs": [
    {
     "name": "stdout",
     "output_type": "stream",
     "text": [
      "{'F': [1111, 2222, 3333], 'M': [4444, 5555, 6666]}\n"
     ]
    }
   ],
   "source": [
    "keys_s = ['F', 'M']\n",
    "values_s = [[1111, 2222, 3333],[4444,5555,6666]]\n",
    "dict_s = {keys_s[0]: values_s[0], keys_s[1]: values_s[1]}\n",
    "print(dict_s)"
   ]
  },
  {
   "cell_type": "code",
   "execution_count": null,
   "metadata": {
    "collapsed": true
   },
   "outputs": [],
   "source": []
  },
  {
   "cell_type": "code",
   "execution_count": null,
   "metadata": {
    "collapsed": true
   },
   "outputs": [],
   "source": []
  }
 ],
 "metadata": {
  "kernelspec": {
   "display_name": "Python 3",
   "language": "python",
   "name": "python3"
  },
  "language_info": {
   "codemirror_mode": {
    "name": "ipython",
    "version": 3
   },
   "file_extension": ".py",
   "mimetype": "text/x-python",
   "name": "python",
   "nbconvert_exporter": "python",
   "pygments_lexer": "ipython3",
   "version": "3.6.1"
  }
 },
 "nbformat": 4,
 "nbformat_minor": 2
}
