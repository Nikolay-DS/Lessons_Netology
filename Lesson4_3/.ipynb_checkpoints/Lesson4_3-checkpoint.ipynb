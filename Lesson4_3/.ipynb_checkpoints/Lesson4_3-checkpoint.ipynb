{
 "cells": [
  {
   "cell_type": "code",
   "execution_count": 15,
   "metadata": {
    "collapsed": true
   },
   "outputs": [],
   "source": [
    "import requests\n",
    "\n",
    "import pandas as pd\n",
    "import numpy as np\n",
    "import matplotlib.pyplot as plt\n",
    "\n",
    "%matplotlib inline"
   ]
  },
  {
   "cell_type": "code",
   "execution_count": 16,
   "metadata": {
    "collapsed": true
   },
   "outputs": [],
   "source": [
    "from scipy.cluster.vq import whiten, kmeans2"
   ]
  },
  {
   "cell_type": "code",
   "execution_count": 17,
   "metadata": {
    "collapsed": true
   },
   "outputs": [],
   "source": [
    "def call_api(uri, result_key):\n",
    "    json = {}\n",
    "    try:\n",
    "        json = requests.get(uri, headers = {'X-Auth-Token': '47b507f3978e46e5b18c13086fc30c60'} ).json()\n",
    "        return json[result_key]\n",
    "    except:\n",
    "        print(json)\n",
    "        return None"
   ]
  },
  {
   "cell_type": "code",
   "execution_count": 21,
   "metadata": {},
   "outputs": [
    {
     "data": {
      "text/plain": [
       "[{'_links': {'fixtures': {'href': 'http://api.football-data.org/v1/teams/100/fixtures'},\n",
       "   'players': {'href': 'http://api.football-data.org/v1/teams/100/players'},\n",
       "   'self': {'href': 'http://api.football-data.org/v1/teams/100'}},\n",
       "  'code': 'ROM',\n",
       "  'crestUrl': 'http://upload.wikimedia.org/wikipedia/de/3/32/AS_Rom.svg',\n",
       "  'name': 'AS Roma',\n",
       "  'shortName': 'Roma',\n",
       "  'squadMarketValue': None},\n",
       " {'_links': {'fixtures': {'href': 'http://api.football-data.org/v1/teams/115/fixtures'},\n",
       "   'players': {'href': 'http://api.football-data.org/v1/teams/115/players'},\n",
       "   'self': {'href': 'http://api.football-data.org/v1/teams/115'}},\n",
       "  'code': None,\n",
       "  'crestUrl': 'http://upload.wikimedia.org/wikipedia/de/b/b1/Udinese_Calcio.svg',\n",
       "  'name': 'Udinese Calcio',\n",
       "  'shortName': 'Udinese',\n",
       "  'squadMarketValue': None},\n",
       " {'_links': {'fixtures': {'href': 'http://api.football-data.org/v1/teams/109/fixtures'},\n",
       "   'players': {'href': 'http://api.football-data.org/v1/teams/109/players'},\n",
       "   'self': {'href': 'http://api.football-data.org/v1/teams/109'}},\n",
       "  'code': 'JUVE',\n",
       "  'crestUrl': 'http://upload.wikimedia.org/wikipedia/de/d/d2/Juventus_Turin.svg',\n",
       "  'name': 'Juventus Turin',\n",
       "  'shortName': 'Juventus',\n",
       "  'squadMarketValue': None},\n",
       " {'_links': {'fixtures': {'href': 'http://api.football-data.org/v1/teams/99/fixtures'},\n",
       "   'players': {'href': 'http://api.football-data.org/v1/teams/99/players'},\n",
       "   'self': {'href': 'http://api.football-data.org/v1/teams/99'}},\n",
       "  'code': 'FIO',\n",
       "  'crestUrl': 'http://upload.wikimedia.org/wikipedia/de/d/de/AC_Florenz.svg',\n",
       "  'name': 'ACF Fiorentina',\n",
       "  'shortName': 'Fiorentina',\n",
       "  'squadMarketValue': None},\n",
       " {'_links': {'fixtures': {'href': 'http://api.football-data.org/v1/teams/98/fixtures'},\n",
       "   'players': {'href': 'http://api.football-data.org/v1/teams/98/players'},\n",
       "   'self': {'href': 'http://api.football-data.org/v1/teams/98'}},\n",
       "  'code': 'ACM',\n",
       "  'crestUrl': 'http://upload.wikimedia.org/wikipedia/de/9/9e/AC_Mailand_Logo.svg',\n",
       "  'name': 'AC Milan',\n",
       "  'shortName': 'Milan',\n",
       "  'squadMarketValue': None},\n",
       " {'_links': {'fixtures': {'href': 'http://api.football-data.org/v1/teams/586/fixtures'},\n",
       "   'players': {'href': 'http://api.football-data.org/v1/teams/586/players'},\n",
       "   'self': {'href': 'http://api.football-data.org/v1/teams/586'}},\n",
       "  'code': 'FCT',\n",
       "  'crestUrl': 'http://upload.wikimedia.org/wikipedia/de/2/2e/Torino_FC_Logo.svg',\n",
       "  'name': 'Torino FC',\n",
       "  'shortName': 'Torino',\n",
       "  'squadMarketValue': None},\n",
       " {'_links': {'fixtures': {'href': 'http://api.football-data.org/v1/teams/106/fixtures'},\n",
       "   'players': {'href': 'http://api.football-data.org/v1/teams/106/players'},\n",
       "   'self': {'href': 'http://api.football-data.org/v1/teams/106'}},\n",
       "  'code': None,\n",
       "  'crestUrl': 'http://upload.wikimedia.org/wikipedia/de/3/3f/AC_Chievo_Verona.svg',\n",
       "  'name': 'AC Chievo Verona',\n",
       "  'shortName': 'Chievo',\n",
       "  'squadMarketValue': None},\n",
       " {'_links': {'fixtures': {'href': 'http://api.football-data.org/v1/teams/108/fixtures'},\n",
       "   'players': {'href': 'http://api.football-data.org/v1/teams/108/players'},\n",
       "   'self': {'href': 'http://api.football-data.org/v1/teams/108'}},\n",
       "  'code': 'Int',\n",
       "  'crestUrl': 'https://upload.wikimedia.org/wikipedia/it/7/7e/Logo_FC_Internazionale_Milano_2014.png',\n",
       "  'name': 'FC Internazionale Milano',\n",
       "  'shortName': 'Inter',\n",
       "  'squadMarketValue': None},\n",
       " {'_links': {'fixtures': {'href': 'http://api.football-data.org/v1/teams/445/fixtures'},\n",
       "   'players': {'href': 'http://api.football-data.org/v1/teams/445/players'},\n",
       "   'self': {'href': 'http://api.football-data.org/v1/teams/445'}},\n",
       "  'code': 'EMP',\n",
       "  'crestUrl': 'http://upload.wikimedia.org/wikipedia/de/4/42/Logo_FC_Empoli.svg',\n",
       "  'name': 'Empoli FC',\n",
       "  'shortName': 'Empoli',\n",
       "  'squadMarketValue': None},\n",
       " {'_links': {'fixtures': {'href': 'http://api.football-data.org/v1/teams/584/fixtures'},\n",
       "   'players': {'href': 'http://api.football-data.org/v1/teams/584/players'},\n",
       "   'self': {'href': 'http://api.football-data.org/v1/teams/584'}},\n",
       "  'code': None,\n",
       "  'crestUrl': 'http://upload.wikimedia.org/wikipedia/de/c/cc/Sampdoria_Genua.svg',\n",
       "  'name': 'UC Sampdoria',\n",
       "  'shortName': 'Sampdoria',\n",
       "  'squadMarketValue': None},\n",
       " {'_links': {'fixtures': {'href': 'http://api.football-data.org/v1/teams/107/fixtures'},\n",
       "   'players': {'href': 'http://api.football-data.org/v1/teams/107/players'},\n",
       "   'self': {'href': 'http://api.football-data.org/v1/teams/107'}},\n",
       "  'code': 'CFC',\n",
       "  'crestUrl': 'http://upload.wikimedia.org/wikipedia/de/7/76/Genoa_CFC.svg',\n",
       "  'name': 'Genoa CFC',\n",
       "  'shortName': 'Genoa',\n",
       "  'squadMarketValue': None},\n",
       " {'_links': {'fixtures': {'href': 'http://api.football-data.org/v1/teams/104/fixtures'},\n",
       "   'players': {'href': 'http://api.football-data.org/v1/teams/104/players'},\n",
       "   'self': {'href': 'http://api.football-data.org/v1/teams/104'}},\n",
       "  'code': None,\n",
       "  'crestUrl': 'http://upload.wikimedia.org/wikipedia/de/3/3d/Cagliari_Calcio.svg',\n",
       "  'name': 'Cagliari Calcio',\n",
       "  'shortName': 'Cagliari',\n",
       "  'squadMarketValue': None},\n",
       " {'_links': {'fixtures': {'href': 'http://api.football-data.org/v1/teams/103/fixtures'},\n",
       "   'players': {'href': 'http://api.football-data.org/v1/teams/103/players'},\n",
       "   'self': {'href': 'http://api.football-data.org/v1/teams/103'}},\n",
       "  'code': None,\n",
       "  'crestUrl': 'http://upload.wikimedia.org/wikipedia/de/9/92/FC_Bologna.svg',\n",
       "  'name': 'Bologna FC',\n",
       "  'shortName': 'Bologna',\n",
       "  'squadMarketValue': None},\n",
       " {'_links': {'fixtures': {'href': 'http://api.football-data.org/v1/teams/472/fixtures'},\n",
       "   'players': {'href': 'http://api.football-data.org/v1/teams/472/players'},\n",
       "   'self': {'href': 'http://api.football-data.org/v1/teams/472'}},\n",
       "  'code': None,\n",
       "  'crestUrl': 'http://upload.wikimedia.org/wikipedia/de/a/ab/FC_Crotone.svg',\n",
       "  'name': 'FC Crotone',\n",
       "  'shortName': 'Crotone',\n",
       "  'squadMarketValue': None},\n",
       " {'_links': {'fixtures': {'href': 'http://api.football-data.org/v1/teams/114/fixtures'},\n",
       "   'players': {'href': 'http://api.football-data.org/v1/teams/114/players'},\n",
       "   'self': {'href': 'http://api.football-data.org/v1/teams/114'}},\n",
       "  'code': 'PAL',\n",
       "  'crestUrl': 'http://upload.wikimedia.org/wikipedia/de/7/7f/US_Palermo.svg',\n",
       "  'name': 'US Cittá di Palermo',\n",
       "  'shortName': 'Palermo',\n",
       "  'squadMarketValue': None},\n",
       " {'_links': {'fixtures': {'href': 'http://api.football-data.org/v1/teams/471/fixtures'},\n",
       "   'players': {'href': 'http://api.football-data.org/v1/teams/471/players'},\n",
       "   'self': {'href': 'http://api.football-data.org/v1/teams/471'}},\n",
       "  'code': 'SASS',\n",
       "  'crestUrl': 'http://upload.wikimedia.org/wikipedia/de/a/a3/US_Sassuolo_Calcio.svg',\n",
       "  'name': 'US Sassuolo Calcio',\n",
       "  'shortName': 'Sassuolo',\n",
       "  'squadMarketValue': None},\n",
       " {'_links': {'fixtures': {'href': 'http://api.football-data.org/v1/teams/585/fixtures'},\n",
       "   'players': {'href': 'http://api.football-data.org/v1/teams/585/players'},\n",
       "   'self': {'href': 'http://api.football-data.org/v1/teams/585'}},\n",
       "  'code': None,\n",
       "  'crestUrl': 'http://upload.wikimedia.org/wikipedia/de/f/ff/Pescara_Calcio.svg',\n",
       "  'name': 'Pescara Calcio',\n",
       "  'shortName': 'Pescara',\n",
       "  'squadMarketValue': None},\n",
       " {'_links': {'fixtures': {'href': 'http://api.football-data.org/v1/teams/113/fixtures'},\n",
       "   'players': {'href': 'http://api.football-data.org/v1/teams/113/players'},\n",
       "   'self': {'href': 'http://api.football-data.org/v1/teams/113'}},\n",
       "  'code': 'SSC',\n",
       "  'crestUrl': 'http://upload.wikimedia.org/wikipedia/commons/2/28/S.S.C._Napoli_logo.svg',\n",
       "  'name': 'SSC Napoli',\n",
       "  'shortName': 'Napoli',\n",
       "  'squadMarketValue': None},\n",
       " {'_links': {'fixtures': {'href': 'http://api.football-data.org/v1/teams/102/fixtures'},\n",
       "   'players': {'href': 'http://api.football-data.org/v1/teams/102/players'},\n",
       "   'self': {'href': 'http://api.football-data.org/v1/teams/102'}},\n",
       "  'code': None,\n",
       "  'crestUrl': 'http://upload.wikimedia.org/wikipedia/de/2/28/Atalanta_BC.svg',\n",
       "  'name': 'Atalanta BC',\n",
       "  'shortName': 'Atalanta',\n",
       "  'squadMarketValue': None},\n",
       " {'_links': {'fixtures': {'href': 'http://api.football-data.org/v1/teams/110/fixtures'},\n",
       "   'players': {'href': 'http://api.football-data.org/v1/teams/110/players'},\n",
       "   'self': {'href': 'http://api.football-data.org/v1/teams/110'}},\n",
       "  'code': 'LAZ',\n",
       "  'crestUrl': 'http://upload.wikimedia.org/wikipedia/de/thumb/4/47/Lazio_Rom.svg/500px-Lazio_Rom.svg.png',\n",
       "  'name': 'SS Lazio',\n",
       "  'shortName': 'Lazio',\n",
       "  'squadMarketValue': None}]"
      ]
     },
     "execution_count": 21,
     "metadata": {},
     "output_type": "execute_result"
    }
   ],
   "source": [
    "teams = call_api('http://api.football-data.org/v1/soccerseasons/438/teams', 'teams')\n",
    "teams"
   ]
  },
  {
   "cell_type": "code",
   "execution_count": 22,
   "metadata": {
    "scrolled": true
   },
   "outputs": [
    {
     "name": "stdout",
     "output_type": "stream",
     "text": [
      "Team \"AS Roma\", 24 players, 91 goals\n",
      "Team \"Udinese Calcio\", 27 players, 47 goals\n",
      "Team \"Juventus Turin\", 25 players, 99 goals\n",
      "Team \"ACF Fiorentina\", 24 players, 63 goals\n",
      "Team \"AC Milan\", 28 players, 57 goals\n",
      "Team \"Torino FC\", 23 players, 71 goals\n",
      "Team \"AC Chievo Verona\", 25 players, 43 goals\n",
      "Team \"FC Internazionale Milano\", 27 players, 72 goals\n",
      "Team \"Empoli FC\", 26 players, 29 goals\n",
      "Team \"UC Sampdoria\", 26 players, 49 goals\n",
      "Team \"Genoa CFC\", 27 players, 38 goals\n",
      "Team \"Cagliari Calcio\", 33 players, 55 goals\n",
      "Team \"Bologna FC\", 26 players, 40 goals\n",
      "Team \"FC Crotone\", 26 players, 34 goals\n",
      "Team \"US Cittá di Palermo\", 28 players, 33 goals\n",
      "Team \"US Sassuolo Calcio\", 27 players, 58 goals\n",
      "Team \"Pescara Calcio\", 30 players, 37 goals\n",
      "Team \"SSC Napoli\", 25 players, 107 goals\n",
      "Team \"Atalanta BC\", 29 players, 62 goals\n",
      "Team \"SS Lazio\", 26 players, 74 goals\n"
     ]
    }
   ],
   "source": [
    "for team in teams:\n",
    "    players = call_api(team['_links']['players']['href'], 'players')\n",
    "    fixtures = call_api(team['_links']['fixtures']['href'], 'fixtures')\n",
    "    goals = 0\n",
    "    for f in fixtures:\n",
    "        if team['name'] == f['homeTeamName']:\n",
    "            goals += f['result']['goalsHomeTeam'] if f['result']['goalsHomeTeam'] else 0\n",
    "        else:\n",
    "            goals += f['result']['goalsAwayTeam'] if f['result']['goalsAwayTeam'] else 0\n",
    "    print('Team \"{}\", {} players, {} goals'.format(team['name'],len(players), goals))\n",
    "    team['players'] = players\n",
    "    team['goals'] = goals"
   ]
  },
  {
   "cell_type": "code",
   "execution_count": 24,
   "metadata": {},
   "outputs": [
    {
     "data": {
      "text/plain": [
       "[{'goals': 91, 'name': 'AS Roma', 'players': 24},\n",
       " {'goals': 47, 'name': 'Udinese Calcio', 'players': 27},\n",
       " {'goals': 99, 'name': 'Juventus Turin', 'players': 25},\n",
       " {'goals': 63, 'name': 'ACF Fiorentina', 'players': 24},\n",
       " {'goals': 57, 'name': 'AC Milan', 'players': 28},\n",
       " {'goals': 71, 'name': 'Torino FC', 'players': 23},\n",
       " {'goals': 43, 'name': 'AC Chievo Verona', 'players': 25},\n",
       " {'goals': 72, 'name': 'FC Internazionale Milano', 'players': 27},\n",
       " {'goals': 29, 'name': 'Empoli FC', 'players': 26},\n",
       " {'goals': 49, 'name': 'UC Sampdoria', 'players': 26},\n",
       " {'goals': 38, 'name': 'Genoa CFC', 'players': 27},\n",
       " {'goals': 55, 'name': 'Cagliari Calcio', 'players': 33},\n",
       " {'goals': 40, 'name': 'Bologna FC', 'players': 26},\n",
       " {'goals': 34, 'name': 'FC Crotone', 'players': 26},\n",
       " {'goals': 33, 'name': 'US Cittá di Palermo', 'players': 28},\n",
       " {'goals': 58, 'name': 'US Sassuolo Calcio', 'players': 27},\n",
       " {'goals': 37, 'name': 'Pescara Calcio', 'players': 30},\n",
       " {'goals': 107, 'name': 'SSC Napoli', 'players': 25},\n",
       " {'goals': 62, 'name': 'Atalanta BC', 'players': 29},\n",
       " {'goals': 74, 'name': 'SS Lazio', 'players': 26}]"
      ]
     },
     "execution_count": 24,
     "metadata": {},
     "output_type": "execute_result"
    }
   ],
   "source": [
    "team_for_pd = []\n",
    "for team in teams:\n",
    "    if team['players']:\n",
    "        team_for_pd.append({'name': team['name'], 'players': len(team['players']), 'goals': team['goals']})\n",
    "team_for_pd"
   ]
  },
  {
   "cell_type": "code",
   "execution_count": 26,
   "metadata": {},
   "outputs": [
    {
     "data": {
      "text/html": [
       "<div>\n",
       "<style>\n",
       "    .dataframe thead tr:only-child th {\n",
       "        text-align: right;\n",
       "    }\n",
       "\n",
       "    .dataframe thead th {\n",
       "        text-align: left;\n",
       "    }\n",
       "\n",
       "    .dataframe tbody tr th {\n",
       "        vertical-align: top;\n",
       "    }\n",
       "</style>\n",
       "<table border=\"1\" class=\"dataframe\">\n",
       "  <thead>\n",
       "    <tr style=\"text-align: right;\">\n",
       "      <th></th>\n",
       "      <th>goals</th>\n",
       "      <th>name</th>\n",
       "      <th>players</th>\n",
       "    </tr>\n",
       "  </thead>\n",
       "  <tbody>\n",
       "    <tr>\n",
       "      <th>0</th>\n",
       "      <td>91</td>\n",
       "      <td>AS Roma</td>\n",
       "      <td>24</td>\n",
       "    </tr>\n",
       "    <tr>\n",
       "      <th>1</th>\n",
       "      <td>47</td>\n",
       "      <td>Udinese Calcio</td>\n",
       "      <td>27</td>\n",
       "    </tr>\n",
       "    <tr>\n",
       "      <th>2</th>\n",
       "      <td>99</td>\n",
       "      <td>Juventus Turin</td>\n",
       "      <td>25</td>\n",
       "    </tr>\n",
       "    <tr>\n",
       "      <th>3</th>\n",
       "      <td>63</td>\n",
       "      <td>ACF Fiorentina</td>\n",
       "      <td>24</td>\n",
       "    </tr>\n",
       "    <tr>\n",
       "      <th>4</th>\n",
       "      <td>57</td>\n",
       "      <td>AC Milan</td>\n",
       "      <td>28</td>\n",
       "    </tr>\n",
       "    <tr>\n",
       "      <th>5</th>\n",
       "      <td>71</td>\n",
       "      <td>Torino FC</td>\n",
       "      <td>23</td>\n",
       "    </tr>\n",
       "    <tr>\n",
       "      <th>6</th>\n",
       "      <td>43</td>\n",
       "      <td>AC Chievo Verona</td>\n",
       "      <td>25</td>\n",
       "    </tr>\n",
       "    <tr>\n",
       "      <th>7</th>\n",
       "      <td>72</td>\n",
       "      <td>FC Internazionale Milano</td>\n",
       "      <td>27</td>\n",
       "    </tr>\n",
       "    <tr>\n",
       "      <th>8</th>\n",
       "      <td>29</td>\n",
       "      <td>Empoli FC</td>\n",
       "      <td>26</td>\n",
       "    </tr>\n",
       "    <tr>\n",
       "      <th>9</th>\n",
       "      <td>49</td>\n",
       "      <td>UC Sampdoria</td>\n",
       "      <td>26</td>\n",
       "    </tr>\n",
       "    <tr>\n",
       "      <th>10</th>\n",
       "      <td>38</td>\n",
       "      <td>Genoa CFC</td>\n",
       "      <td>27</td>\n",
       "    </tr>\n",
       "    <tr>\n",
       "      <th>11</th>\n",
       "      <td>55</td>\n",
       "      <td>Cagliari Calcio</td>\n",
       "      <td>33</td>\n",
       "    </tr>\n",
       "    <tr>\n",
       "      <th>12</th>\n",
       "      <td>40</td>\n",
       "      <td>Bologna FC</td>\n",
       "      <td>26</td>\n",
       "    </tr>\n",
       "    <tr>\n",
       "      <th>13</th>\n",
       "      <td>34</td>\n",
       "      <td>FC Crotone</td>\n",
       "      <td>26</td>\n",
       "    </tr>\n",
       "    <tr>\n",
       "      <th>14</th>\n",
       "      <td>33</td>\n",
       "      <td>US Cittá di Palermo</td>\n",
       "      <td>28</td>\n",
       "    </tr>\n",
       "    <tr>\n",
       "      <th>15</th>\n",
       "      <td>58</td>\n",
       "      <td>US Sassuolo Calcio</td>\n",
       "      <td>27</td>\n",
       "    </tr>\n",
       "    <tr>\n",
       "      <th>16</th>\n",
       "      <td>37</td>\n",
       "      <td>Pescara Calcio</td>\n",
       "      <td>30</td>\n",
       "    </tr>\n",
       "    <tr>\n",
       "      <th>17</th>\n",
       "      <td>107</td>\n",
       "      <td>SSC Napoli</td>\n",
       "      <td>25</td>\n",
       "    </tr>\n",
       "    <tr>\n",
       "      <th>18</th>\n",
       "      <td>62</td>\n",
       "      <td>Atalanta BC</td>\n",
       "      <td>29</td>\n",
       "    </tr>\n",
       "    <tr>\n",
       "      <th>19</th>\n",
       "      <td>74</td>\n",
       "      <td>SS Lazio</td>\n",
       "      <td>26</td>\n",
       "    </tr>\n",
       "  </tbody>\n",
       "</table>\n",
       "</div>"
      ],
      "text/plain": [
       "    goals                      name  players\n",
       "0      91                   AS Roma       24\n",
       "1      47            Udinese Calcio       27\n",
       "2      99            Juventus Turin       25\n",
       "3      63            ACF Fiorentina       24\n",
       "4      57                  AC Milan       28\n",
       "5      71                 Torino FC       23\n",
       "6      43          AC Chievo Verona       25\n",
       "7      72  FC Internazionale Milano       27\n",
       "8      29                 Empoli FC       26\n",
       "9      49              UC Sampdoria       26\n",
       "10     38                 Genoa CFC       27\n",
       "11     55           Cagliari Calcio       33\n",
       "12     40                Bologna FC       26\n",
       "13     34                FC Crotone       26\n",
       "14     33       US Cittá di Palermo       28\n",
       "15     58        US Sassuolo Calcio       27\n",
       "16     37            Pescara Calcio       30\n",
       "17    107                SSC Napoli       25\n",
       "18     62               Atalanta BC       29\n",
       "19     74                  SS Lazio       26"
      ]
     },
     "execution_count": 26,
     "metadata": {},
     "output_type": "execute_result"
    }
   ],
   "source": [
    "teams_pd = pd.DataFrame(team_for_pd)\n",
    "teams_pd"
   ]
  },
  {
   "cell_type": "code",
   "execution_count": 27,
   "metadata": {},
   "outputs": [
    {
     "data": {
      "text/plain": [
       "<matplotlib.axes._subplots.AxesSubplot at 0x10d4a3860>"
      ]
     },
     "execution_count": 27,
     "metadata": {},
     "output_type": "execute_result"
    },
    {
     "data": {
      "image/png": "[encoded data removed]",
      "text/plain": [
       "<matplotlib.figure.Figure at 0x10d52b710>"
      ]
     },
     "metadata": {},
     "output_type": "display_data"
    }
   ],
   "source": [
    "teams_pd.plot.scatter(x='players', y='goals', s=100)"
   ]
  },
  {
   "cell_type": "code",
   "execution_count": 28,
   "metadata": {},
   "outputs": [
    {
     "data": {
      "text/html": [
       "<div>\n",
       "<style>\n",
       "    .dataframe thead tr:only-child th {\n",
       "        text-align: right;\n",
       "    }\n",
       "\n",
       "    .dataframe thead th {\n",
       "        text-align: left;\n",
       "    }\n",
       "\n",
       "    .dataframe tbody tr th {\n",
       "        vertical-align: top;\n",
       "    }\n",
       "</style>\n",
       "<table border=\"1\" class=\"dataframe\">\n",
       "  <thead>\n",
       "    <tr style=\"text-align: right;\">\n",
       "      <th></th>\n",
       "      <th>goals</th>\n",
       "      <th>players</th>\n",
       "    </tr>\n",
       "  </thead>\n",
       "  <tbody>\n",
       "    <tr>\n",
       "      <th>0</th>\n",
       "      <td>91</td>\n",
       "      <td>24</td>\n",
       "    </tr>\n",
       "    <tr>\n",
       "      <th>1</th>\n",
       "      <td>47</td>\n",
       "      <td>27</td>\n",
       "    </tr>\n",
       "    <tr>\n",
       "      <th>2</th>\n",
       "      <td>99</td>\n",
       "      <td>25</td>\n",
       "    </tr>\n",
       "    <tr>\n",
       "      <th>3</th>\n",
       "      <td>63</td>\n",
       "      <td>24</td>\n",
       "    </tr>\n",
       "    <tr>\n",
       "      <th>4</th>\n",
       "      <td>57</td>\n",
       "      <td>28</td>\n",
       "    </tr>\n",
       "    <tr>\n",
       "      <th>5</th>\n",
       "      <td>71</td>\n",
       "      <td>23</td>\n",
       "    </tr>\n",
       "    <tr>\n",
       "      <th>6</th>\n",
       "      <td>43</td>\n",
       "      <td>25</td>\n",
       "    </tr>\n",
       "    <tr>\n",
       "      <th>7</th>\n",
       "      <td>72</td>\n",
       "      <td>27</td>\n",
       "    </tr>\n",
       "    <tr>\n",
       "      <th>8</th>\n",
       "      <td>29</td>\n",
       "      <td>26</td>\n",
       "    </tr>\n",
       "    <tr>\n",
       "      <th>9</th>\n",
       "      <td>49</td>\n",
       "      <td>26</td>\n",
       "    </tr>\n",
       "    <tr>\n",
       "      <th>10</th>\n",
       "      <td>38</td>\n",
       "      <td>27</td>\n",
       "    </tr>\n",
       "    <tr>\n",
       "      <th>11</th>\n",
       "      <td>55</td>\n",
       "      <td>33</td>\n",
       "    </tr>\n",
       "    <tr>\n",
       "      <th>12</th>\n",
       "      <td>40</td>\n",
       "      <td>26</td>\n",
       "    </tr>\n",
       "    <tr>\n",
       "      <th>13</th>\n",
       "      <td>34</td>\n",
       "      <td>26</td>\n",
       "    </tr>\n",
       "    <tr>\n",
       "      <th>14</th>\n",
       "      <td>33</td>\n",
       "      <td>28</td>\n",
       "    </tr>\n",
       "    <tr>\n",
       "      <th>15</th>\n",
       "      <td>58</td>\n",
       "      <td>27</td>\n",
       "    </tr>\n",
       "    <tr>\n",
       "      <th>16</th>\n",
       "      <td>37</td>\n",
       "      <td>30</td>\n",
       "    </tr>\n",
       "    <tr>\n",
       "      <th>17</th>\n",
       "      <td>107</td>\n",
       "      <td>25</td>\n",
       "    </tr>\n",
       "    <tr>\n",
       "      <th>18</th>\n",
       "      <td>62</td>\n",
       "      <td>29</td>\n",
       "    </tr>\n",
       "    <tr>\n",
       "      <th>19</th>\n",
       "      <td>74</td>\n",
       "      <td>26</td>\n",
       "    </tr>\n",
       "  </tbody>\n",
       "</table>\n",
       "</div>"
      ],
      "text/plain": [
       "    goals  players\n",
       "0      91       24\n",
       "1      47       27\n",
       "2      99       25\n",
       "3      63       24\n",
       "4      57       28\n",
       "5      71       23\n",
       "6      43       25\n",
       "7      72       27\n",
       "8      29       26\n",
       "9      49       26\n",
       "10     38       27\n",
       "11     55       33\n",
       "12     40       26\n",
       "13     34       26\n",
       "14     33       28\n",
       "15     58       27\n",
       "16     37       30\n",
       "17    107       25\n",
       "18     62       29\n",
       "19     74       26"
      ]
     },
     "execution_count": 28,
     "metadata": {},
     "output_type": "execute_result"
    }
   ],
   "source": [
    "del teams_pd['name']\n",
    "teams_pd"
   ]
  },
  {
   "cell_type": "code",
   "execution_count": 29,
   "metadata": {},
   "outputs": [
    {
     "data": {
      "text/plain": [
       "array([[  4.18044097,  10.7981105 ],\n",
       "       [  2.15912885,  12.14787431],\n",
       "       [  4.54795227,  11.24803177],\n",
       "       [  2.89415144,  10.7981105 ],\n",
       "       [  2.61851797,  12.59779558],\n",
       "       [  3.26166274,  10.34818923],\n",
       "       [  1.97537321,  11.24803177],\n",
       "       [  3.30760165,  12.14787431],\n",
       "       [  1.33222844,  11.69795304],\n",
       "       [  2.25100668,  11.69795304],\n",
       "       [  1.74567865,  12.14787431],\n",
       "       [  2.52664015,  14.84740193],\n",
       "       [  1.83755647,  11.69795304],\n",
       "       [  1.561923  ,  11.69795304],\n",
       "       [  1.51598409,  12.59779558],\n",
       "       [  2.66445688,  12.14787431],\n",
       "       [  1.69973974,  13.49763812],\n",
       "       [  4.91546356,  11.24803177],\n",
       "       [  2.84821253,  13.04771685],\n",
       "       [  3.39947947,  11.69795304]])"
      ]
     },
     "execution_count": 29,
     "metadata": {},
     "output_type": "execute_result"
    }
   ],
   "source": [
    "whitened = whiten(teams_pd.as_matrix())\n",
    "whitened"
   ]
  },
  {
   "cell_type": "code",
   "execution_count": 30,
   "metadata": {},
   "outputs": [
    {
     "data": {
      "text/plain": [
       "(array([[  2.08813235,  11.98426657],\n",
       "        [  2.35819747,  13.79758563],\n",
       "        [  3.86652507,  11.02307113]]),\n",
       " array([2, 0, 2, 2, 0, 2, 0, 0, 0, 0, 0, 1, 0, 0, 0, 0, 1, 2, 1, 2], dtype=int32))"
      ]
     },
     "execution_count": 30,
     "metadata": {},
     "output_type": "execute_result"
    }
   ],
   "source": [
    "centroids, cluster_map = kmeans2(whitened, 3)\n",
    "centroids, cluster_map"
   ]
  },
  {
   "cell_type": "code",
   "execution_count": 31,
   "metadata": {},
   "outputs": [
    {
     "data": {
      "text/plain": [
       "['b',\n",
       " 'r',\n",
       " 'b',\n",
       " 'b',\n",
       " 'r',\n",
       " 'b',\n",
       " 'r',\n",
       " 'r',\n",
       " 'r',\n",
       " 'r',\n",
       " 'r',\n",
       " 'g',\n",
       " 'r',\n",
       " 'r',\n",
       " 'r',\n",
       " 'r',\n",
       " 'g',\n",
       " 'b',\n",
       " 'g',\n",
       " 'b']"
      ]
     },
     "execution_count": 31,
     "metadata": {},
     "output_type": "execute_result"
    }
   ],
   "source": [
    "colors_map = {0: 'r', 1: 'g', 2: 'b', 3: 'y', 4: 'm'}\n",
    "colors = [colors_map[c] for c in cluster_map]\n",
    "colors"
   ]
  },
  {
   "cell_type": "code",
   "execution_count": 32,
   "metadata": {},
   "outputs": [
    {
     "data": {
      "text/plain": [
       "<matplotlib.axes._subplots.AxesSubplot at 0x10d566a58>"
      ]
     },
     "execution_count": 32,
     "metadata": {},
     "output_type": "execute_result"
    },
    {
     "data": {
      "image/png": "[encoded data removed]",
      "text/plain": [
       "<matplotlib.figure.Figure at 0x10d579588>"
      ]
     },
     "metadata": {},
     "output_type": "display_data"
    }
   ],
   "source": [
    "teams_pd.plot.scatter(x='players', y='goals', c=colors, s=100)"
   ]
  },
  {
   "cell_type": "code",
   "execution_count": 33,
   "metadata": {},
   "outputs": [
    {
     "data": {
      "text/plain": [
       "(array([[  1.79735992,  11.86667351],\n",
       "        [  2.85969726,  12.48531526],\n",
       "        [  3.18509788,  10.94808425],\n",
       "        [  2.11318994,  14.17252003],\n",
       "        [  4.54795227,  11.09805801]]),\n",
       " array([4, 0, 4, 2, 1, 2, 0, 1, 0, 0, 0, 3, 0, 0, 0, 1, 3, 4, 1, 2], dtype=int32))"
      ]
     },
     "execution_count": 33,
     "metadata": {},
     "output_type": "execute_result"
    }
   ],
   "source": [
    "centroids, cluster_map = kmeans2(whitened, 5)\n",
    "centroids, cluster_map"
   ]
  },
  {
   "cell_type": "code",
   "execution_count": 34,
   "metadata": {},
   "outputs": [
    {
     "data": {
      "text/plain": [
       "['m',\n",
       " 'r',\n",
       " 'm',\n",
       " 'b',\n",
       " 'g',\n",
       " 'b',\n",
       " 'r',\n",
       " 'g',\n",
       " 'r',\n",
       " 'r',\n",
       " 'r',\n",
       " 'y',\n",
       " 'r',\n",
       " 'r',\n",
       " 'r',\n",
       " 'g',\n",
       " 'y',\n",
       " 'm',\n",
       " 'g',\n",
       " 'b']"
      ]
     },
     "execution_count": 34,
     "metadata": {},
     "output_type": "execute_result"
    }
   ],
   "source": [
    "colors_map = {0: 'r', 1: 'g', 2: 'b', 3: 'y', 4: 'm'}\n",
    "colors = [colors_map[c] for c in cluster_map]\n",
    "colors"
   ]
  },
  {
   "cell_type": "code",
   "execution_count": 35,
   "metadata": {},
   "outputs": [
    {
     "data": {
      "text/plain": [
       "<matplotlib.axes._subplots.AxesSubplot at 0x110e49d68>"
      ]
     },
     "execution_count": 35,
     "metadata": {},
     "output_type": "execute_result"
    },
    {
     "data": {
      "image/png": "[encoded data removed]",
      "text/plain": [
       "<matplotlib.figure.Figure at 0x110e53eb8>"
      ]
     },
     "metadata": {},
     "output_type": "display_data"
    }
   ],
   "source": [
    "teams_pd.plot.scatter(x='players', y='goals', c=colors, s=100)"
   ]
  },
  {
   "cell_type": "code",
   "execution_count": null,
   "metadata": {
    "collapsed": true
   },
   "outputs": [],
   "source": []
  }
 ],
 "metadata": {
  "kernelspec": {
   "display_name": "Python 3",
   "language": "python",
   "name": "python3"
  },
  "language_info": {
   "codemirror_mode": {
    "name": "ipython",
    "version": 3
   },
   "file_extension": ".py",
   "mimetype": "text/x-python",
   "name": "python",
   "nbconvert_exporter": "python",
   "pygments_lexer": "ipython3",
   "version": "3.6.1"
  }
 },
 "nbformat": 4,
 "nbformat_minor": 2
}
